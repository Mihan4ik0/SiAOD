{
 "cells": [
  {
   "attachments": {},
   "cell_type": "markdown",
   "metadata": {},
   "source": [
    "# Контрольные задачи по дисциплине СиАОД №1"
   ]
  },
  {
   "attachments": {},
   "cell_type": "markdown",
   "metadata": {},
   "source": [
    "## Выполнил студент группы БВТ2101 Козей Михаил Александрович\n",
    "***"
   ]
  },
  {
   "attachments": {},
   "cell_type": "markdown",
   "metadata": {},
   "source": [
    "# Задание №1\n",
    "\n",
    "# «Треугольник с максимальным периметром»"
   ]
  },
  {
   "attachments": {},
   "cell_type": "markdown",
   "metadata": {},
   "source": [
    "Массив A состоит из целых положительных чисел длин\n",
    "отрезков. Составьте из трех отрезков\n",
    "такой треугольник, чтобы его периметр был максимально возможным. Если невозможно\n",
    "составить треугольник с положительной площадью функция\n",
    "возвращает 0.\n",
    "<br><b>Ограничения:</b>\n",
    "<br>•  3 ⩽ len(A) ⩽ 10000\n",
    "<br>•  1 ⩽ A[i] ⩽ 10⁶"
   ]
  },
  {
   "cell_type": "code",
   "execution_count": 2,
   "metadata": {},
   "outputs": [
    {
     "name": "stdout",
     "output_type": "stream",
     "text": [
      "5\n",
      "0\n",
      "10\n",
      "8\n"
     ]
    }
   ],
   "source": [
    "def max_perimeter_triangle(A):\n",
    "    A.sort(reverse=True)\n",
    "    n = len(A)\n",
    "    max_perimeter = 0\n",
    "    for i in range(n-2):\n",
    "        if A[i] < A[i+1] + A[i+2]:\n",
    "            perimeter = A[i] + A[i+1] + A[i+2]\n",
    "            max_perimeter = max(max_perimeter, perimeter)\n",
    "    return max_perimeter if max_perimeter > 0 else 0\n",
    "\n",
    "A = [[2, 1, 2], [1, 2, 1], [3, 2, 3, 4], [3, 6, 2, 3]]\n",
    "for i in range(len(A)):\n",
    "    print(max_perimeter_triangle(A[i]))\n"
   ]
  },
  {
   "attachments": {},
   "cell_type": "markdown",
   "metadata": {},
   "source": [
    "# Задание №2"
   ]
  },
  {
   "attachments": {},
   "cell_type": "markdown",
   "metadata": {},
   "source": [
    "Дан массив неотрицательных целых чисел nums. Расположите их в таком порядке, чтобы\n",
    "вместе они образовали максимально возможное число.\n",
    "<br><b>Замечание:</b> Результат может быть очень большим числом, поэтому представьте его как\n",
    "string, а не integer.\n",
    "<br><b>Ограничения:</b>\n",
    "<br>• 1 ⩽ len(nums) ⩽ 100\n",
    "<br>• 0 ⩽ nums[i] ⩽ 109"
   ]
  },
  {
   "cell_type": "code",
   "execution_count": 3,
   "metadata": {},
   "outputs": [
    {
     "name": "stdout",
     "output_type": "stream",
     "text": [
      "210\n",
      "9534330\n",
      "1\n",
      "10\n"
     ]
    }
   ],
   "source": [
    "def largest_number(nums):\n",
    "    nums = sorted(map(str, nums), key=lambda x: x*9, reverse=True)\n",
    "    return str(int(''.join(nums)))\n",
    "\n",
    "nums = [[10, 2], [3, 30, 34, 5, 9], [1], [10]]\n",
    "for i in range(len(nums)):\n",
    "    print(largest_number(nums[i]))\n"
   ]
  },
  {
   "attachments": {},
   "cell_type": "markdown",
   "metadata": {},
   "source": [
    "# Задание №3"
   ]
  },
  {
   "attachments": {},
   "cell_type": "markdown",
   "metadata": {},
   "source": [
    "Дана матрица mat размером m * n, значения ­ целочисленные. Напишите функцию, сор­ тирующую каждую \n",
    "диагональ матрицы по возрастанию и возвращающую получившуюся мат­рицу.\n",
    "<br><b>Ограничения:</b>\n",
    "<br>•  m == len(mat)\n",
    "<br>•  n == len(mat[i])\n",
    "<br>•  1 ⩽ m, n ⩽ 100\n",
    "<br>•  1 ⩽ mat[i][j] ⩽ 100\n"
   ]
  },
  {
   "cell_type": "code",
   "execution_count": 5,
   "metadata": {},
   "outputs": [
    {
     "name": "stdout",
     "output_type": "stream",
     "text": [
      "[[1, 1, 1, 1], [1, 2, 2, 2], [1, 2, 3, 3]]\n",
      "[[5, 17, 4, 1, 52, 7], [11, 11, 25, 45, 8, 69], [14, 23, 25, 44, 58, 15], [22, 27, 31, 36, 50, 66], [84, 28, 75, 33, 55, 68]]\n"
     ]
    }
   ],
   "source": [
    "def diagonal_sort(mat):\n",
    "    m, n = len(mat), len(mat[0])\n",
    "    d = {}\n",
    "    for i in range(m):\n",
    "        for j in range(n):\n",
    "            if i - j not in d:\n",
    "                d[i - j] = []\n",
    "            d[i - j].append(mat[i][j])\n",
    "    for k in d:\n",
    "        d[k].sort()\n",
    "    for i in range(m):\n",
    "        for j in range(n):\n",
    "            mat[i][j] = d[i - j].pop(0)\n",
    "    return mat\n",
    "\n",
    "mat = [[[3, 3, 1, 1], [2, 2, 1, 2], [1, 1, 1, 2]], [[11, 25, 66, 1, 69, 7], [23, 55, 17, 45, 15, 52], [75, 31, 36,\n",
    "44, 58, 8], [22, 27, 33, 25, 68, 4], [84, 28, 14, 11, 5, 50]]]\n",
    "for i in range(len(mat)):\n",
    "    print(diagonal_sort(mat[i]))"
   ]
  }
 ],
 "metadata": {
  "kernelspec": {
   "display_name": "Python 3",
   "language": "python",
   "name": "python3"
  },
  "language_info": {
   "codemirror_mode": {
    "name": "ipython",
    "version": 3
   },
   "file_extension": ".py",
   "mimetype": "text/x-python",
   "name": "python",
   "nbconvert_exporter": "python",
   "pygments_lexer": "ipython3",
   "version": "3.10.6"
  },
  "orig_nbformat": 4
 },
 "nbformat": 4,
 "nbformat_minor": 2
}
