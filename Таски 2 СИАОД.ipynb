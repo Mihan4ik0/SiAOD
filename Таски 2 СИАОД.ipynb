{
 "cells": [
  {
   "attachments": {},
   "cell_type": "markdown",
   "metadata": {},
   "source": [
    "# Строки"
   ]
  },
  {
   "cell_type": "markdown",
   "metadata": {},
   "source": [
    "## Выполнил студент группы БВТ2101 Козей Михаил Александрович\n",
    "***"
   ]
  },
  {
   "attachments": {},
   "cell_type": "markdown",
   "metadata": {},
   "source": [
    "# Задание №1"
   ]
  },
  {
   "attachments": {},
   "cell_type": "markdown",
   "metadata": {},
   "source": [
    "Даны две строки: s1 и s2 с одинаковым размером, проверьте, может ли\n",
    "некоторая перестановка строки s1 “победить” некоторую перестановку\n",
    "строки s2 или наоборот.\n",
    "Строка x может “победить” строку y (обе имеют размер n), если x[i]> = y\n",
    "[i] (в алфавитном порядке) для всех i от 0 до n-1."
   ]
  },
  {
   "cell_type": "code",
   "execution_count": 1,
   "metadata": {},
   "outputs": [
    {
     "name": "stdout",
     "output_type": "stream",
     "text": [
      "True\n",
      "False\n"
     ]
    }
   ],
   "source": [
    "def can_strings_win(s1, s2):\n",
    "    # Сортируем обе строки по возрастанию символов\n",
    "    s1_sorted = sorted(s1)\n",
    "    s2_sorted = sorted(s2)\n",
    "\n",
    "    # Проверяем, может ли s1 \"победить\" s2\n",
    "    all_greater_or_equal_s1 = all(s1_sorted[i] >= s2_sorted[i] for i in range(len(s1)))\n",
    "    if all_greater_or_equal_s1:\n",
    "        return True\n",
    "\n",
    "    # Проверяем, может ли s2 \"победить\" s1\n",
    "    all_greater_or_equal_s2 = all(s2_sorted[i] >= s1_sorted[i] for i in range(len(s2)))\n",
    "    if all_greater_or_equal_s2:\n",
    "        return True\n",
    "\n",
    "    # Если ни одна строка не \"побеждает\" другую, возвращаем False\n",
    "    return False\n",
    "\n",
    "s1 = \"abc\"\n",
    "s2 = \"xya\"\n",
    "print(can_strings_win(s1, s2))  # True\n",
    "\n",
    "s1 = \"abe\"\n",
    "s2 = \"acd\"\n",
    "print(can_strings_win(s1, s2))  # False"
   ]
  },
  {
   "cell_type": "markdown",
   "metadata": {},
   "source": [
    "# Задание №2"
   ]
  },
  {
   "attachments": {},
   "cell_type": "markdown",
   "metadata": {},
   "source": [
    "Дана строка s, вернуть самую длинную полиндромную подстроку в s."
   ]
  },
  {
   "cell_type": "code",
   "execution_count": 3,
   "metadata": {},
   "outputs": [
    {
     "name": "stdout",
     "output_type": "stream",
     "text": [
      "bab\n",
      "bb\n"
     ]
    }
   ],
   "source": [
    "def longest_palindromic_substring(s):\n",
    "    n = len(s)\n",
    "    dp = [[False] * n for _ in range(n)]\n",
    "    answer = \"\"\n",
    "\n",
    "    # Подстроки длины 1 являются палиндромами\n",
    "    for i in range(n):\n",
    "        dp[i][i] = True\n",
    "        answer = s[i]\n",
    "\n",
    "    # Подстроки длины 2\n",
    "    for i in range(n - 1):\n",
    "        if s[i] == s[i + 1]:\n",
    "            dp[i][i + 1] = True\n",
    "            answer = s[i:i+2]\n",
    "\n",
    "    # Подстроки длины 3 и более\n",
    "    for length in range(3, n + 1):\n",
    "        for i in range(n - length + 1):\n",
    "            j = i + length - 1\n",
    "            if s[i] == s[j] and dp[i + 1][j - 1]:\n",
    "                dp[i][j] = True\n",
    "                if length > len(answer):\n",
    "                    answer = s[i:j+1]\n",
    "\n",
    "    return answer\n",
    "\n",
    "\n",
    "s = \"babad\"\n",
    "print(longest_palindromic_substring(s))  # \"bab\" или \"aba\"\n",
    "\n",
    "s = \"cbbd\"\n",
    "print(longest_palindromic_substring(s))  # \"bb\""
   ]
  },
  {
   "cell_type": "markdown",
   "metadata": {},
   "source": [
    "# Задание №3"
   ]
  },
  {
   "attachments": {},
   "cell_type": "markdown",
   "metadata": {},
   "source": [
    "Вернуть количество отдельных непустых подстрок текста, которые могут\n",
    "быть записаны как конкатенация некоторой строки с самой собой (т.е. она\n",
    "может быть записана, как a + a, где a - некоторая строка)."
   ]
  },
  {
   "cell_type": "code",
   "execution_count": 35,
   "metadata": {},
   "outputs": [
    {
     "data": {
      "text/plain": [
       "3"
      ]
     },
     "execution_count": 35,
     "metadata": {},
     "output_type": "execute_result"
    }
   ],
   "source": [
    "def count_concat_substrings(text):\n",
    "    max_len = len(text) // 2\n",
    "    count = 0\n",
    "    for length in range(1, max_len + 1):\n",
    "        seen = {}\n",
    "        for i in range(len(text) - length * 2 + 1):\n",
    "            substring = text[i:i+length]\n",
    "            if substring in seen:\n",
    "                continue\n",
    "            seen[substring] = True\n",
    "            if text.count(substring * 2) > 0:\n",
    "                count += 1\n",
    "    return count\n",
    "\n",
    "\n",
    "\n",
    "text = \"abcabcabc\"\n",
    "count_concat_substrings(text)"
   ]
  }
 ],
 "metadata": {
  "kernelspec": {
   "display_name": "Python 3",
   "language": "python",
   "name": "python3"
  },
  "language_info": {
   "codemirror_mode": {
    "name": "ipython",
    "version": 3
   },
   "file_extension": ".py",
   "mimetype": "text/x-python",
   "name": "python",
   "nbconvert_exporter": "python",
   "pygments_lexer": "ipython3",
   "version": "3.10.6"
  },
  "orig_nbformat": 4
 },
 "nbformat": 4,
 "nbformat_minor": 2
}
