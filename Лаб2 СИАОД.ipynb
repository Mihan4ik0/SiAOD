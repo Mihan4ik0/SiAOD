{
 "cells": [
  {
   "cell_type": "code",
   "execution_count": 13,
   "id": "e63fc552",
   "metadata": {},
   "outputs": [],
   "source": [
    "import sys\n",
    "sys.setrecursionlimit(500000)"
   ]
  },
  {
   "attachments": {},
   "cell_type": "markdown",
   "id": "fifteen-sailing",
   "metadata": {
    "id": "fifteen-sailing"
   },
   "source": [
    "# Лабораторная работа №2\n",
    "## Выполнил студент группы Козей Михаил Александрович БВТ2101"
   ]
  },
  {
   "cell_type": "markdown",
   "id": "arctic-stocks",
   "metadata": {
    "id": "arctic-stocks"
   },
   "source": [
    "Реализовать следующие структуры данных:\n",
    "  \n",
    "● <b> Стек (stack): </b>  \n",
    "Операции для стека: \n",
    "<i> инициализация, проверка на пустоту, добавление нового элемента в начало, извлечение элемента из начала;  </i>  \n",
    "  \n",
    "● <b> Дек (двусторонняя очередь, deque):  </b>  \n",
    "Операции для дека: \n",
    "<i> инициализация, проверка на пустоту, добавление нового элемента в начало, добавление нового элемента в конец, извлечение элемента из начала, извлечение элемента из конца. </i>  \n",
    "  \n",
    "<i> Разработать программу обработки данных, содержащихся в заранее подготовленном txt-файле, в соответствии с заданиями, применив указанную в задании структуру данных. Результат работы программы вывести на экран и сохранить в отдельном txt-файле. </i>"
   ]
  },
  {
   "cell_type": "code",
   "execution_count": 14,
   "id": "2af8f10d",
   "metadata": {},
   "outputs": [],
   "source": [
    "class Stack:\n",
    "    def __init__(self):\n",
    "        self.items = []\n",
    "\n",
    "    def push(self, item):\n",
    "        self.items.append(item)\n",
    "\n",
    "    def pop(self):\n",
    "        if not self.is_empty():\n",
    "            return self.items.pop()\n",
    "\n",
    "    def peek(self):\n",
    "        if not self.is_empty():\n",
    "            return self.items[-1]\n",
    "\n",
    "    def is_empty(self):\n",
    "        return len(self.items) == 0\n",
    "\n",
    "    def size(self):\n",
    "        return len(self.items)\n"
   ]
  },
  {
   "cell_type": "code",
   "execution_count": 15,
   "id": "940db12c",
   "metadata": {},
   "outputs": [],
   "source": [
    "# Реализация дека (deque)\n",
    "class Deque:\n",
    "    def __init__(self):\n",
    "        self.items = []\n",
    "\n",
    "    def is_empty(self):\n",
    "        return len(self.items) == 0\n",
    "\n",
    "    def add_front(self, item):\n",
    "        self.items.append(item)\n",
    "\n",
    "    def add_rear(self, item):\n",
    "        self.items.insert(0, item)\n",
    "\n",
    "    def remove_front(self):\n",
    "        if not self.is_empty():\n",
    "            return self.items.pop()\n",
    "\n",
    "    def remove_rear(self):\n",
    "        if not self.is_empty():\n",
    "            return self.items.pop(0)\n",
    "\n",
    "    def size(self):\n",
    "        return len(self.items)\n",
    "    \n",
    "    def sort(self):\n",
    "        self.items.sort()\n",
    "    \n",
    "    def clear(self):\n",
    "        self.items = []"
   ]
  },
  {
   "cell_type": "markdown",
   "id": "5d7edb08",
   "metadata": {
    "id": "5d7edb08",
    "scrolled": true
   },
   "source": [
    "### Задание №1\n",
    "Отсортировать строки файла, содержащие названия книг, в алфавитном порядке с использованием двух деков."
   ]
  },
  {
   "cell_type": "code",
   "execution_count": 16,
   "id": "17702ade",
   "metadata": {
    "id": "17702ade"
   },
   "outputs": [],
   "source": [
    "input_file = 'books.txt'\n",
    "output_file = 'sorted_books.txt'\n",
    "\n",
    "# Читаем строки из файла в дек\n",
    "d1 = Deque()\n",
    "with open(input_file, 'r') as f:\n",
    "    for line in f:\n",
    "        d1.add_rear(line.strip())\n",
    "\n",
    "# Сортируем строки в деке\n",
    "d1.sort()\n",
    "\n",
    "# Записываем отсортированные строки в файл\n",
    "with open(output_file, 'w') as f:\n",
    "    while not d1.is_empty():\n",
    "        f.write(d1.remove_rear() + '\\n')"
   ]
  },
  {
   "attachments": {},
   "cell_type": "markdown",
   "id": "49fbd2a0",
   "metadata": {
    "id": "49fbd2a0"
   },
   "source": [
    "### Задание №2\n",
    "Дек содержит последовательность символов для шифровки сообщений. Дан текстовый файл, содержащий зашифрованное сообщение. Пользуясь деком, расшифровать текст. \n",
    "Известно, что при шифровке каждый символ сообщения заменялся следующим за ним в деке по часовой стрелке через один."
   ]
  },
  {
   "cell_type": "code",
   "execution_count": 17,
   "id": "81cab7a8",
   "metadata": {
    "id": "81cab7a8"
   },
   "outputs": [
    {
     "name": "stdout",
     "output_type": "stream",
     "text": [
      "HATE\n"
     ]
    }
   ],
   "source": [
    "# Задача расшифровки текста с использованием дека:\n",
    "# Определим функцию, которая будет принимать на вход шифрованный текст и дек:\n",
    "def decrypt(text, deck):\n",
    "    \n",
    "    # Создадим пустую строку, в которую будем записывать расшифрованный текст:\n",
    "    decrypted_text = \"\"\n",
    "    \n",
    "    # Переберем все символы шифрованного текста:\n",
    "    for symbol in text:\n",
    "        \n",
    "        # Найдем индекс текущего символа в деке:\n",
    "        index = deck.index(symbol)\n",
    "        \n",
    "        # Определим индекс предыдущего символа в деке \n",
    "        # (если индекс текущего символа равен 0, то индекс предыдущего равен максимальному индексу дека):\n",
    "        if index == 0:\n",
    "            prev_index = len(deck) - 2\n",
    "        else:\n",
    "            prev_index = index - 2\n",
    "        \n",
    "        # Добавим предыдущий символ в расшифрованную строку:\n",
    "        decrypted_text += deck[prev_index]\n",
    "    \n",
    "    # Вернем расшифрованную строку:\n",
    "    return decrypted_text\n",
    "    \n",
    "# Объявим дек:\n",
    "deck = [\"A\", \"B\", \"C\", \"D\", \"E\", \"F\", \"G\", \"H\", \"I\", \"J\", \"K\", \"L\", \"M\", \"N\", \"O\", \"P\", \"Q\", \"R\", \"S\", \"T\", \"U\", \"V\", \"W\", \"X\", \"Y\", \"Z\"]\n",
    "# Откроем файл с шифрованным текстом:\n",
    "with open(\"encrypted_message.txt\") as f:\n",
    "    encrypted_text = f.read()\n",
    "# Расшифруем текст:\n",
    "decrypted_text = decrypt(encrypted_text, deck)\n",
    "# Выведем расшифрованный текст на экран:\n",
    "print(decrypted_text)"
   ]
  },
  {
   "attachments": {},
   "cell_type": "markdown",
   "id": "c0894f47",
   "metadata": {
    "id": "c0894f47"
   },
   "source": [
    "### Задание №3\n",
    "Даны три стержня и n дисков различного размера. Диски можно надевать на стержни, образуя из них башни. Перенести n дисков со стержня А на стержень С, сохранив их первоначальный порядок. При переносе дисков необходимо соблюдать следующие правила:\n",
    "- на каждом шаге со стержня на стержень переносить только один диск;\n",
    "- диск нельзя помещать на диск меньшего размера;\n",
    "- для промежуточного хранения можно использовать стержень В.\n",
    "Реализовать алгоритм, используя три стека вместо стержней А, В, С. Информация о дисках хранится в исходном файле."
   ]
  },
  {
   "cell_type": "code",
   "execution_count": 18,
   "id": "9e91a9d4",
   "metadata": {
    "id": "9e91a9d4"
   },
   "outputs": [
    {
     "name": "stdout",
     "output_type": "stream",
     "text": [
      "rod A in the beginning: [5, 4, 3, 2, 1]\n",
      "rod B in the beginning: []\n",
      "rod C in the beginning: []\n",
      "\n",
      "\n",
      "rod  []\n",
      "rod B: []\n",
      "rod C: [5, 4, 3, 2, 1]\n"
     ]
    }
   ],
   "source": [
    "rod_A, rod_B, rod_C = Deque(), Deque(), Deque()\n",
    "\n",
    "# Функция для заполнения входной информации из файла.\n",
    "def file_fill(file_name):\n",
    "    rod_A.clear()\n",
    "    with open(file_name, 'r') as f:\n",
    "        for line in f:\n",
    "            for i in line.split():\n",
    "                rod_A.add_front(int(i))\n",
    "        return rod_A\n",
    "    \n",
    "# Функция собственно перемещения фишек.\n",
    "def move(start_rod, end_rod):\n",
    "    end_rod.add_front(start_rod.remove_front())\n",
    "\n",
    "# Функция реализующая сам алгоритм.\n",
    "def hanoi(n, start_rod, middle_rod, end_rod):\n",
    "    if n == 1:\n",
    "        move(start_rod, end_rod)\n",
    "    else:\n",
    "        hanoi(n - 1, start_rod, end_rod, middle_rod)\n",
    "        move(start_rod, end_rod)\n",
    "        hanoi(n - 1, middle_rod, start_rod, end_rod)\n",
    "\n",
    "# Функция печатает информацию по шагам алгоритма.\n",
    "def print_results():\n",
    "    print('rod ', rod_A.items)\n",
    "    print('rod B:', rod_B.items)\n",
    "    print('rod C:', rod_C.items)\n",
    "\n",
    "# Функция вызывающая алгоритм.       \n",
    "def main():\n",
    "    file_fill('DiskInput.txt')\n",
    "    print('rod A in the beginning:', rod_A.items)   \n",
    "    print('rod B in the beginning:', rod_B.items)\n",
    "    print('rod C in the beginning:', rod_C.items)\n",
    "    print()\n",
    "    hanoi(rod_A.size(), rod_A, rod_B, rod_C)\n",
    "    print()\n",
    "    print_results()\n",
    "\n",
    "if __name__ == \"__main__\":\n",
    "    main()"
   ]
  },
  {
   "cell_type": "markdown",
   "id": "e5b0be17",
   "metadata": {
    "id": "e5b0be17"
   },
   "source": [
    "### Задание №4\n",
    "Дан текстовый файл с программой на алгоритмическом языке. За один просмотр файла проверить баланс круглых скобок в тексте, используя стек."
   ]
  },
  {
   "cell_type": "code",
   "execution_count": 19,
   "id": "5b1df60a",
   "metadata": {
    "id": "5b1df60a"
   },
   "outputs": [
    {
     "name": "stdout",
     "output_type": "stream",
     "text": [
      "True\n"
     ]
    }
   ],
   "source": [
    "def check_brackets(file_name):\n",
    "    with open(file_name, 'r') as f:\n",
    "        text = f.read()\n",
    "    deque = Deque()\n",
    "    for char in text:\n",
    "        if char == '[':\n",
    "            deque.add_front(char)\n",
    "        elif char == ']':\n",
    "            if deque.is_empty():\n",
    "                return False\n",
    "            deque.remove_front()\n",
    "    return deque.is_empty()\n",
    "\n",
    "print(check_brackets('ExampleAlg.txt'))\n"
   ]
  },
  {
   "cell_type": "markdown",
   "id": "c44cdd6b",
   "metadata": {
    "id": "c44cdd6b"
   },
   "source": [
    "### Задание №5\n",
    "Дан текстовый файл с программой на алгоритмическом языке. За один просмотр файла проверить баланс квадратных скобок в тексте, используя дек."
   ]
  },
  {
   "cell_type": "code",
   "execution_count": 20,
   "id": "36b8f400",
   "metadata": {
    "id": "36b8f400"
   },
   "outputs": [
    {
     "name": "stdout",
     "output_type": "stream",
     "text": [
      "Скобки балансированы!\n"
     ]
    }
   ],
   "source": [
    "# Открываем файл\n",
    "with open('ExampleAlg.txt', 'r') as f:\n",
    "    data = f.read()\n",
    "\n",
    "# Создаем стек\n",
    "stack = Deque()\n",
    "\n",
    "# Проходим по тексту\n",
    "for char in data:\n",
    "    # Если встречаем открывающуюся скобку\n",
    "    if char == '[':\n",
    "        stack.add_rear(char)\n",
    "    # Если встречаем закрывающуюся скобку\n",
    "    if char == ']':\n",
    "        if stack: # Если стек не пуст\n",
    "            stack.remove_rear() # Удаляем элемент из стека\n",
    "        else:\n",
    "            print(\"Скобки не сбалансированы!\")\n",
    "            break;\n",
    "\n",
    "if stack.is_empty(): # Если стек пуст\n",
    "    print(\"Скобки балансированы!\")\n",
    "else:\n",
    "    print(\"Скобки не сбалансированы!\")\n"
   ]
  },
  {
   "attachments": {},
   "cell_type": "markdown",
   "id": "59d13dc7",
   "metadata": {
    "id": "59d13dc7"
   },
   "source": [
    "### Задание №6\n",
    "Дан файл из символов. Используя стек, за один просмотр файла напечатать сначала все цифры, затем все буквы, и, наконец, все остальные символы, сохраняя исходный порядок в каждой группе символов."
   ]
  },
  {
   "cell_type": "code",
   "execution_count": 21,
   "id": "297e36c2",
   "metadata": {
    "id": "297e36c2"
   },
   "outputs": [
    {
     "name": "stdout",
     "output_type": "stream",
     "text": [
      "1355212Thisisasimpletextwithnumbers!!!!"
     ]
    }
   ],
   "source": [
    "# Создаем стеки для цифр, букв и остальных символов\n",
    "digits = Deque()\n",
    "letters = Deque()\n",
    "others = Deque()\n",
    "\n",
    "# Открываем файл\n",
    "with open('symbols.txt', 'r') as f:\n",
    "    f = f.read()\n",
    "    f = f.replace(' ', '') \n",
    "    for line in f:\n",
    "        for char in line:\n",
    "            # Если символ - цифра, добавляем в стек цифр\n",
    "            if char.isdigit():\n",
    "                digits.add_rear(char)\n",
    "            # Если символ - буква, добавляем в стек букв\n",
    "            elif char.isalpha():\n",
    "                letters.add_rear(char)\n",
    "            # Иначе добавляем в стек остальных символов\n",
    "            else:\n",
    "                others.add_rear(char)\n",
    "\n",
    "# Выводим все цифры\n",
    "while not digits.is_empty():\n",
    "    print(digits.remove_front(), end='')\n",
    "\n",
    "# Выводим все буквы\n",
    "while not letters.is_empty():\n",
    "    print(letters.remove_front(), end='')\n",
    "\n",
    "# Выводим все остальные символы\n",
    "while not others.is_empty():\n",
    "    print(others.remove_front(), end='')\n"
   ]
  },
  {
   "cell_type": "markdown",
   "id": "973f68bd",
   "metadata": {
    "id": "973f68bd"
   },
   "source": [
    "### Задание №7\n",
    "Дан файл из целых чисел. Используя дек, за один просмотр файла напечатать сначала все отрицательные числа, затем все положительные числа, сохраняя исходный порядок в каждой группе."
   ]
  },
  {
   "cell_type": "code",
   "execution_count": 22,
   "id": "c56fad66",
   "metadata": {
    "id": "c56fad66"
   },
   "outputs": [
    {
     "name": "stdout",
     "output_type": "stream",
     "text": [
      "-10\n",
      "-3\n",
      "1\n",
      "4\n",
      "8\n",
      "7\n"
     ]
    }
   ],
   "source": [
    "# читаем числа из файла\n",
    "with open('Chisla.txt') as f:\n",
    "    lines = f.readlines()\n",
    "\n",
    "positive = Deque()  # сюда помещаем положительные числа\n",
    "negative = Deque()  # сюда помещаем отрицательные числа\n",
    "\n",
    "# помещаем числа в деки по знаку\n",
    "for line in lines:\n",
    "    num = int(line.strip())\n",
    "    if num > 0:\n",
    "        positive.add_rear(num)\n",
    "    else:\n",
    "        negative.add_rear(num)\n",
    "\n",
    "# выводим числа из деков построчно\n",
    "while not negative.is_empty():\n",
    "    num = negative.remove_front()  # извлекаем число из дека\n",
    "    print(num)\n",
    "\n",
    "while not positive.is_empty():\n",
    "    num = positive.remove_front()  # извлекаем число из дека\n",
    "    print(num)"
   ]
  },
  {
   "cell_type": "markdown",
   "id": "b9228191",
   "metadata": {
    "id": "b9228191"
   },
   "source": [
    "### Задание №8\n",
    "Дан текстовый файл. Используя стек, сформировать новый текстовый файл, содержащий строки исходного файла, записанные в обратном порядке: первая строка становится последней, вторая – предпоследней и т.д."
   ]
  },
  {
   "cell_type": "code",
   "execution_count": 23,
   "id": "981fbdfe",
   "metadata": {
    "id": "981fbdfe"
   },
   "outputs": [],
   "source": [
    "# Создаем стек\n",
    "stack = Stack()\n",
    "\n",
    "# Читаем исходный файл и добавляем каждую строку в стек\n",
    "with open('file_in.txt', 'r') as f:\n",
    "    for line in f:\n",
    "        stack.push(line.strip())\n",
    "\n",
    "# Создаем новый файл и записываем строки в обратном порядке\n",
    "with open('file_out.txt', 'w') as f:\n",
    "    while not stack.is_empty():\n",
    "        f.write(stack.pop() + '\\n')"
   ]
  },
  {
   "cell_type": "markdown",
   "id": "rental-jerusalem",
   "metadata": {
    "id": "rental-jerusalem"
   },
   "source": [
    "### Вывод\n"
   ]
  },
  {
   "attachments": {},
   "cell_type": "markdown",
   "id": "0c2b8899",
   "metadata": {
    "id": "0c2b8899"
   },
   "source": [
    "В данной лабороторной работе мы разобрались с созданием классов Stack и Deque и их использования для наших задач"
   ]
  }
 ],
 "metadata": {
  "colab": {
   "provenance": [
    {
     "file_id": "1SJnopeql2j1MhzcaJ8o68KaPzPnynIeK",
     "timestamp": 1676536264821
    }
   ]
  },
  "kernelspec": {
   "display_name": "Python 3",
   "language": "python",
   "name": "python3"
  },
  "language_info": {
   "codemirror_mode": {
    "name": "ipython",
    "version": 3
   },
   "file_extension": ".py",
   "mimetype": "text/x-python",
   "name": "python",
   "nbconvert_exporter": "python",
   "pygments_lexer": "ipython3",
   "version": "3.10.6"
  },
  "vscode": {
   "interpreter": {
    "hash": "f5393a5d8c26cea391c33bf4ae25b85e18e78d8dc44b3dfd604fece89859bc61"
   }
  }
 },
 "nbformat": 4,
 "nbformat_minor": 5
}
